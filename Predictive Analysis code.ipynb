{
 "cells": [
  {
   "cell_type": "code",
   "execution_count": 1,
   "id": "b58f5e6c-22de-49ec-af94-32917b31187c",
   "metadata": {},
   "outputs": [],
   "source": [
    "import pandas as pd\n",
    "from pandas.api.types import CategoricalDtype\n",
    "import numpy as np\n",
    "import matplotlib.pyplot as plt\n",
    "import seaborn as sns\n",
    "from scipy import stats\n",
    "from sklearn.model_selection import train_test_split\n",
    "from sklearn.tree import DecisionTreeClassifier\n",
    "from sklearn.ensemble import AdaBoostClassifier\n",
    "from sklearn.model_selection import GridSearchCV\n",
    "from sklearn.metrics import confusion_matrix\n",
    "from sklearn.metrics import roc_auc_score\n",
    "from sklearn.metrics import roc_curve\n",
    "from sklearn.metrics import classification_report\n",
    "from sklearn.metrics import accuracy_score \n",
    "from sklearn.metrics import mean_squared_error\n"
   ]
  },
  {
   "cell_type": "code",
   "execution_count": 2,
   "id": "2f135a96-5c75-4fad-b8d4-00ae2f2e6986",
   "metadata": {},
   "outputs": [],
   "source": [
    "#Read DataSet off of computer\n",
    "df= pd.read_csv('C:/Users/jefft/Desktop/WGU Classes/D209/medical_clean.csv', index_col=0)"
   ]
  },
  {
   "cell_type": "code",
   "execution_count": 3,
   "id": "0d3a725d-5f10-4aab-9855-e15c902c8cb4",
   "metadata": {},
   "outputs": [],
   "source": [
    "# Convert specified columns from string to category\n",
    "df[\"TimeZone\"] = df[\"TimeZone\"].astype(\"category\")\n",
    "df[\"Marital\"] = df[\"Marital\"].astype(\"category\")\n",
    "df[\"Gender\"] = df[\"Gender\"].astype(\"category\")\n",
    "df[\"Initial_admin\"] = df[\"Initial_admin\"].astype(\"category\")\n",
    "df[\"Complication_risk\"] = df[\"Complication_risk\"].astype(\"category\")\n",
    "df[\"Services\"] = df[\"Services\"].astype(\"category\")\n",
    "\n",
    "# Reformat the 'Income' column from float to integer\n",
    "df[\"Income\"] = df[\"Income\"].astype(int)\n",
    "\n",
    "# Reformat currency columns to 3 decimal places\n",
    "df[\"TotalCharge\"] = df[\"TotalCharge\"].round(3)\n",
    "df[\"Additional_charges\"] = df[\"Additional_charges\"].round(3)\n",
    "\n",
    "# Define mapping for boolean conversion\n",
    "bool_mapping = {\"Yes\": 1, \"No\": 0}\n",
    "\n",
    "# Convert specified columns from string to boolean using the mapping\n",
    "boolean_columns = [\"ReAdmis\", \"Soft_drink\", \"HighBlood\", \"Stroke\", \"Overweight\", \n",
    "                   \"Arthritis\", \"Diabetes\", \"Hyperlipidemia\", \"BackPain\", \"Anxiety\", \n",
    "                   \"Allergic_rhinitis\", \"Reflux_esophagitis\", \"Asthma\"]\n",
    "\n",
    "for col in boolean_columns:\n",
    "    df[col] = df[col].map(bool_mapping)\n",
    "\n",
    "# Define mapping to reverse survey scores\n",
    "survey_mapping = {1: 8, 2: 7, 3: 6, 4: 5, 5: 4, 6: 3, 7: 2, 8: 1}\n",
    "\n",
    "# Define ordered categorical datatype for survey responses\n",
    "survey_scores = CategoricalDtype(categories=[\"1\", \"2\", \"3\", \"4\", \"5\", \"6\", \"7\", \"8\"], ordered=True)\n",
    "\n",
    "# Reverse and convert survey score columns to ordered categorical datatype\n",
    "survey_columns = [\"Item1\", \"Item2\", \"Item3\", \"Item4\", \"Item5\", \"Item6\", \"Item7\", \"Item8\"]\n",
    "\n",
    "for col in survey_columns:\n",
    "    df[col] = df[col].map(survey_mapping).map(str).astype(survey_scores)"
   ]
  },
  {
   "cell_type": "code",
   "execution_count": 7,
   "id": "029390db-3fe2-4032-bf26-a4224950b31c",
   "metadata": {},
   "outputs": [
    {
     "name": "stdout",
     "output_type": "stream",
     "text": [
      "          Customer_id                           Interaction  \\\n",
      "CaseOrder                                                     \n",
      "1             C412403  8cd49b13-f45a-4b47-a2bd-173ffa932c2f   \n",
      "2             Z919181  d2450b70-0337-4406-bdbb-bc1037f1734c   \n",
      "3             F995323  a2057123-abf5-4a2c-abad-8ffe33512562   \n",
      "4             A879973  1dec528d-eb34-4079-adce-0d7a40e82205   \n",
      "5             C544523  5885f56b-d6da-43a3-8760-83583af94266   \n",
      "...               ...                                   ...   \n",
      "9996          B863060  a25b594d-0328-486f-a9b9-0567eb0f9723   \n",
      "9997          P712040  70711574-f7b1-4a17-b15f-48c54564b70f   \n",
      "9998          R778890  1d79569d-8e0f-4180-a207-d67ee4527d26   \n",
      "9999          E344109  f5a68e69-2a60-409b-a92f-ac0847b27db0   \n",
      "10000         I569847  bc482c02-f8c9-4423-99de-3db5e62a18d5   \n",
      "\n",
      "                                        UID          City State        County  \\\n",
      "CaseOrder                                                                       \n",
      "1          3a83ddb66e2ae73798bdf1d705dc0932           Eva    AL        Morgan   \n",
      "2          176354c5eef714957d486009feabf195      Marianna    FL       Jackson   \n",
      "3          e19a0fa00aeda885b8a436757e889bc9   Sioux Falls    SD     Minnehaha   \n",
      "4          cd17d7b6d152cb6f23957346d11c3f07  New Richland    MN        Waseca   \n",
      "5          d2f0425877b10ed6bb381f3e2579424a    West Point    VA  King William   \n",
      "...                                     ...           ...   ...           ...   \n",
      "9996       39184dc28cc038871912ccc4500049e5       Norlina    NC        Warren   \n",
      "9997       3cd124ccd43147404292e883bf9ec55c        Milmay    NJ      Atlantic   \n",
      "9998       41b770aeee97a5b9e7f69c906a8119d7     Southside    TN    Montgomery   \n",
      "9999       2bb491ef5b1beb1fed758cc6885c167a         Quinn    SD    Pennington   \n",
      "10000      95663a202338000abdf7e09311c2a8a1    Coraopolis    PA     Allegheny   \n",
      "\n",
      "             Zip       Lat        Lng  Population  ... Item7 Item8  \\\n",
      "CaseOrder                                          ...               \n",
      "1          35621  34.34960  -86.72508        2951  ...     6     5   \n",
      "2          32446  30.84513  -85.22907       11303  ...     6     6   \n",
      "3          57110  43.54321  -96.63772       17125  ...     6     6   \n",
      "4          56072  43.89744  -93.51479        2162  ...     4     4   \n",
      "5          23181  37.59894  -76.88958        5287  ...     5     6   \n",
      "...          ...       ...        ...         ...  ...   ...   ...   \n",
      "9996       27563  36.42886  -78.23716        4762  ...     5     7   \n",
      "9997        8340  39.43609  -74.87302        1251  ...     5     5   \n",
      "9998       37171  36.36655  -87.29988         532  ...     6     7   \n",
      "9999       57775  44.10354 -102.01590         271  ...     5     6   \n",
      "10000      15108  40.49998  -80.19959       41524  ...     5     6   \n",
      "\n",
      "          Gender_Male  Gender_Nonbinary  Arthritis_1  Diabetes_1  \\\n",
      "CaseOrder                                                          \n",
      "1                   1                 0            1           1   \n",
      "2                   0                 0            0           0   \n",
      "3                   0                 0            0           1   \n",
      "4                   1                 0            1           0   \n",
      "5                   0                 0            0           0   \n",
      "...               ...               ...          ...         ...   \n",
      "9996                1                 0            0           0   \n",
      "9997                1                 0            1           1   \n",
      "9998                0                 0            0           0   \n",
      "9999                1                 0            0           0   \n",
      "10000               0                 0            1           0   \n",
      "\n",
      "          Hyperlipidemia_1  Allergic_rhinitis_1  Asthma_1  Anxiety_1  \n",
      "CaseOrder                                                             \n",
      "1                        0                    1         1          1  \n",
      "2                        0                    0         0          0  \n",
      "3                        0                    0         0          0  \n",
      "4                        0                    0         1          0  \n",
      "5                        1                    1         0          0  \n",
      "...                    ...                  ...       ...        ...  \n",
      "9996                     0                    0         0          1  \n",
      "9997                     0                    0         1          0  \n",
      "9998                     0                    1         0          1  \n",
      "9999                     0                    0         0          0  \n",
      "10000                    1                    1         0          0  \n",
      "\n",
      "[10000 rows x 50 columns]\n"
     ]
    }
   ],
   "source": [
    "# List of binary columns to create dummies for\n",
    "binary_columns = ['Gender', 'Arthritis', 'Diabetes', 'Hyperlipidemia', 'Allergic_rhinitis', 'Asthma', 'Anxiety']\n",
    "\n",
    "# Create dummy variables and concatenate them back into the original DataFrame\n",
    "dummies = [pd.get_dummies(df[col], dtype=int, prefix=col, drop_first=True) for col in binary_columns]\n",
    "\n",
    "# Concatenate original DataFrame with the new dummy variables\n",
    "df = pd.concat([df] + dummies, axis=1)\n",
    "\n",
    "# Drop the original binary columns\n",
    "df.drop(binary_columns, axis=1, inplace=True)\n",
    "\n",
    "# Display the updated DataFrame\n",
    "print(df)"
   ]
  },
  {
   "cell_type": "code",
   "execution_count": 103,
   "id": "16545754-3108-4ccf-a1d8-56559e27b04f",
   "metadata": {},
   "outputs": [
    {
     "data": {
      "text/plain": [
       "[           Gender_Male  Gender_Nonbinary\n",
       " CaseOrder                               \n",
       " 1                    1                 0\n",
       " 2                    0                 0\n",
       " 3                    0                 0\n",
       " 4                    1                 0\n",
       " 5                    0                 0\n",
       " ...                ...               ...\n",
       " 9996                 1                 0\n",
       " 9997                 1                 0\n",
       " 9998                 0                 0\n",
       " 9999                 1                 0\n",
       " 10000                0                 0\n",
       " \n",
       " [10000 rows x 2 columns],\n",
       "            Arthritis_1\n",
       " CaseOrder             \n",
       " 1                    1\n",
       " 2                    0\n",
       " 3                    0\n",
       " 4                    1\n",
       " 5                    0\n",
       " ...                ...\n",
       " 9996                 0\n",
       " 9997                 1\n",
       " 9998                 0\n",
       " 9999                 0\n",
       " 10000                1\n",
       " \n",
       " [10000 rows x 1 columns],\n",
       "            Diabetes_1\n",
       " CaseOrder            \n",
       " 1                   1\n",
       " 2                   0\n",
       " 3                   1\n",
       " 4                   0\n",
       " 5                   0\n",
       " ...               ...\n",
       " 9996                0\n",
       " 9997                1\n",
       " 9998                0\n",
       " 9999                0\n",
       " 10000               0\n",
       " \n",
       " [10000 rows x 1 columns],\n",
       "            Hyperlipidemia_1\n",
       " CaseOrder                  \n",
       " 1                         0\n",
       " 2                         0\n",
       " 3                         0\n",
       " 4                         0\n",
       " 5                         1\n",
       " ...                     ...\n",
       " 9996                      0\n",
       " 9997                      0\n",
       " 9998                      0\n",
       " 9999                      0\n",
       " 10000                     1\n",
       " \n",
       " [10000 rows x 1 columns],\n",
       "            Allergic_rhinitis_1\n",
       " CaseOrder                     \n",
       " 1                            1\n",
       " 2                            0\n",
       " 3                            0\n",
       " 4                            0\n",
       " 5                            1\n",
       " ...                        ...\n",
       " 9996                         0\n",
       " 9997                         0\n",
       " 9998                         1\n",
       " 9999                         0\n",
       " 10000                        1\n",
       " \n",
       " [10000 rows x 1 columns],\n",
       "            Asthma_1\n",
       " CaseOrder          \n",
       " 1                 1\n",
       " 2                 0\n",
       " 3                 0\n",
       " 4                 1\n",
       " 5                 0\n",
       " ...             ...\n",
       " 9996              0\n",
       " 9997              1\n",
       " 9998              0\n",
       " 9999              0\n",
       " 10000             0\n",
       " \n",
       " [10000 rows x 1 columns],\n",
       "            Anxiety_1\n",
       " CaseOrder           \n",
       " 1                  1\n",
       " 2                  0\n",
       " 3                  0\n",
       " 4                  0\n",
       " 5                  0\n",
       " ...              ...\n",
       " 9996               1\n",
       " 9997               0\n",
       " 9998               1\n",
       " 9999               0\n",
       " 10000              0\n",
       " \n",
       " [10000 rows x 1 columns]]"
      ]
     },
     "execution_count": 103,
     "metadata": {},
     "output_type": "execute_result"
    }
   ],
   "source": [
    "dummies"
   ]
  },
  {
   "cell_type": "code",
   "execution_count": 9,
   "id": "33161ac5-7495-41c2-9157-bd4c96787f53",
   "metadata": {},
   "outputs": [
    {
     "data": {
      "text/plain": [
       "count    10000.000000\n",
       "mean        34.455299\n",
       "std         26.309341\n",
       "min          1.001981\n",
       "25%          7.896215\n",
       "50%         35.836244\n",
       "75%         61.161020\n",
       "max         71.981490\n",
       "Name: Initial_days, dtype: float64"
      ]
     },
     "execution_count": 9,
     "metadata": {},
     "output_type": "execute_result"
    }
   ],
   "source": [
    "#Summary Statistics\n",
    "df.Initial_days.describe()"
   ]
  },
  {
   "cell_type": "code",
   "execution_count": 11,
   "id": "8ae7b743-b7f7-42e5-98fc-821002c58724",
   "metadata": {},
   "outputs": [
    {
     "data": {
      "text/plain": [
       "Initial_days\n",
       "63.544320    2\n",
       "67.421390    2\n",
       "70.325420    2\n",
       "63.334690    1\n",
       "67.036510    1\n",
       "            ..\n",
       "5.977596     1\n",
       "5.799041     1\n",
       "6.415853     1\n",
       "7.328631     1\n",
       "70.850590    1\n",
       "Name: count, Length: 9997, dtype: int64"
      ]
     },
     "execution_count": 11,
     "metadata": {},
     "output_type": "execute_result"
    }
   ],
   "source": [
    "df.Initial_days.value_counts()"
   ]
  },
  {
   "cell_type": "code",
   "execution_count": 19,
   "id": "2389f713-ac27-4af1-b427-090089633e86",
   "metadata": {},
   "outputs": [
    {
     "data": {
      "text/plain": [
       "count    10000.00000\n",
       "mean         0.28930\n",
       "std          0.45346\n",
       "min          0.00000\n",
       "25%          0.00000\n",
       "50%          0.00000\n",
       "75%          1.00000\n",
       "max          1.00000\n",
       "Name: Asthma_1, dtype: float64"
      ]
     },
     "execution_count": 19,
     "metadata": {},
     "output_type": "execute_result"
    }
   ],
   "source": [
    "df.Asthma_1.describe()"
   ]
  },
  {
   "cell_type": "code",
   "execution_count": 21,
   "id": "90a9baf6-32ae-48c5-98e9-ca94f232b6e1",
   "metadata": {},
   "outputs": [
    {
     "data": {
      "text/plain": [
       "<bound method IndexOpsMixin.value_counts of CaseOrder\n",
       "1        1\n",
       "2        0\n",
       "3        0\n",
       "4        1\n",
       "5        0\n",
       "        ..\n",
       "9996     0\n",
       "9997     1\n",
       "9998     0\n",
       "9999     0\n",
       "10000    0\n",
       "Name: Asthma_1, Length: 10000, dtype: int32>"
      ]
     },
     "execution_count": 21,
     "metadata": {},
     "output_type": "execute_result"
    }
   ],
   "source": [
    "df.Asthma_1.value_counts"
   ]
  },
  {
   "cell_type": "code",
   "execution_count": 23,
   "id": "80832400-61aa-4ece-b57c-2be85a959626",
   "metadata": {},
   "outputs": [
    {
     "data": {
      "text/plain": [
       "count    10000.000000\n",
       "mean         0.394100\n",
       "std          0.488681\n",
       "min          0.000000\n",
       "25%          0.000000\n",
       "50%          0.000000\n",
       "75%          1.000000\n",
       "max          1.000000\n",
       "Name: Allergic_rhinitis_1, dtype: float64"
      ]
     },
     "execution_count": 23,
     "metadata": {},
     "output_type": "execute_result"
    }
   ],
   "source": [
    "df. Allergic_rhinitis_1.describe()"
   ]
  },
  {
   "cell_type": "code",
   "execution_count": 25,
   "id": "64bff8d9-5eb7-4534-b0af-c06cbf397331",
   "metadata": {},
   "outputs": [
    {
     "data": {
      "text/plain": [
       "<bound method IndexOpsMixin.value_counts of CaseOrder\n",
       "1        1\n",
       "2        0\n",
       "3        0\n",
       "4        0\n",
       "5        1\n",
       "        ..\n",
       "9996     0\n",
       "9997     0\n",
       "9998     1\n",
       "9999     0\n",
       "10000    1\n",
       "Name: Allergic_rhinitis_1, Length: 10000, dtype: int32>"
      ]
     },
     "execution_count": 25,
     "metadata": {},
     "output_type": "execute_result"
    }
   ],
   "source": [
    "df.  Allergic_rhinitis_1.value_counts"
   ]
  },
  {
   "cell_type": "code",
   "execution_count": 27,
   "id": "3ccb4708-844d-4e68-8199-41550b74aa36",
   "metadata": {},
   "outputs": [
    {
     "data": {
      "text/plain": [
       "count    10000.000000\n",
       "mean         0.321500\n",
       "std          0.467076\n",
       "min          0.000000\n",
       "25%          0.000000\n",
       "50%          0.000000\n",
       "75%          1.000000\n",
       "max          1.000000\n",
       "Name: Anxiety_1, dtype: float64"
      ]
     },
     "execution_count": 27,
     "metadata": {},
     "output_type": "execute_result"
    }
   ],
   "source": [
    "df.Anxiety_1.describe()"
   ]
  },
  {
   "cell_type": "code",
   "execution_count": 29,
   "id": "e31364ba-f39f-4dff-bbbc-c39267138e69",
   "metadata": {},
   "outputs": [
    {
     "data": {
      "text/plain": [
       "Anxiety_1\n",
       "0    6785\n",
       "1    3215\n",
       "Name: count, dtype: int64"
      ]
     },
     "execution_count": 29,
     "metadata": {},
     "output_type": "execute_result"
    }
   ],
   "source": [
    "df.Anxiety_1.value_counts()"
   ]
  },
  {
   "cell_type": "code",
   "execution_count": 41,
   "id": "cede5449-0947-4a7c-9ea2-0b20b3225701",
   "metadata": {},
   "outputs": [
    {
     "data": {
      "text/plain": [
       "count    10000.000000\n",
       "mean         0.337200\n",
       "std          0.472777\n",
       "min          0.000000\n",
       "25%          0.000000\n",
       "50%          0.000000\n",
       "75%          1.000000\n",
       "max          1.000000\n",
       "Name: Hyperlipidemia_1, dtype: float64"
      ]
     },
     "execution_count": 41,
     "metadata": {},
     "output_type": "execute_result"
    }
   ],
   "source": [
    "df.Hyperlipidemia_1.describe()"
   ]
  },
  {
   "cell_type": "code",
   "execution_count": 43,
   "id": "38d8bb79-40da-48bf-aeab-a38d53bf4151",
   "metadata": {},
   "outputs": [
    {
     "data": {
      "text/plain": [
       "Hyperlipidemia_1\n",
       "0    6628\n",
       "1    3372\n",
       "Name: count, dtype: int64"
      ]
     },
     "execution_count": 43,
     "metadata": {},
     "output_type": "execute_result"
    }
   ],
   "source": [
    "df.Hyperlipidemia_1.value_counts()"
   ]
  },
  {
   "cell_type": "code",
   "execution_count": 45,
   "id": "aa43ecb8-6949-4ccd-a21e-c9e2b796df5a",
   "metadata": {},
   "outputs": [
    {
     "data": {
      "text/plain": [
       "count    10000.00000\n",
       "mean         0.27380\n",
       "std          0.44593\n",
       "min          0.00000\n",
       "25%          0.00000\n",
       "50%          0.00000\n",
       "75%          1.00000\n",
       "max          1.00000\n",
       "Name: Diabetes_1, dtype: float64"
      ]
     },
     "execution_count": 45,
     "metadata": {},
     "output_type": "execute_result"
    }
   ],
   "source": [
    "df.Diabetes_1.describe()"
   ]
  },
  {
   "cell_type": "code",
   "execution_count": 47,
   "id": "180a9c79-34ca-4b20-abb6-51a237acc0e8",
   "metadata": {},
   "outputs": [
    {
     "data": {
      "text/plain": [
       "Diabetes_1\n",
       "0    7262\n",
       "1    2738\n",
       "Name: count, dtype: int64"
      ]
     },
     "execution_count": 47,
     "metadata": {},
     "output_type": "execute_result"
    }
   ],
   "source": [
    "df.Diabetes_1.value_counts()"
   ]
  },
  {
   "cell_type": "code",
   "execution_count": 93,
   "id": "e94f24c0-84bf-41f4-be79-d74814867288",
   "metadata": {},
   "outputs": [
    {
     "data": {
      "text/plain": [
       "count    10000.000000\n",
       "mean         0.357400\n",
       "std          0.479258\n",
       "min          0.000000\n",
       "25%          0.000000\n",
       "50%          0.000000\n",
       "75%          1.000000\n",
       "max          1.000000\n",
       "Name: Arthritis_1, dtype: float64"
      ]
     },
     "execution_count": 93,
     "metadata": {},
     "output_type": "execute_result"
    }
   ],
   "source": [
    "df.Arthritis_1.describe()"
   ]
  },
  {
   "cell_type": "code",
   "execution_count": 95,
   "id": "589a74e0-2560-41c7-9f2c-867ecc4e7006",
   "metadata": {},
   "outputs": [
    {
     "data": {
      "text/plain": [
       "Arthritis_1\n",
       "0    6426\n",
       "1    3574\n",
       "Name: count, dtype: int64"
      ]
     },
     "execution_count": 95,
     "metadata": {},
     "output_type": "execute_result"
    }
   ],
   "source": [
    "df.Arthritis_1.value_counts()"
   ]
  },
  {
   "cell_type": "code",
   "execution_count": 53,
   "id": "6b920eee-2283-4dbd-ab3e-83f0be5f920b",
   "metadata": {},
   "outputs": [
    {
     "data": {
      "text/plain": [
       "count    10000.000000\n",
       "mean         2.097200\n",
       "std          2.163659\n",
       "min          0.000000\n",
       "25%          0.000000\n",
       "50%          1.000000\n",
       "75%          3.000000\n",
       "max         10.000000\n",
       "Name: Children, dtype: float64"
      ]
     },
     "execution_count": 53,
     "metadata": {},
     "output_type": "execute_result"
    }
   ],
   "source": [
    "df.Children.describe()"
   ]
  },
  {
   "cell_type": "code",
   "execution_count": 55,
   "id": "1264a3b1-389a-4bb1-b474-d08e27a5bd77",
   "metadata": {},
   "outputs": [
    {
     "data": {
      "text/plain": [
       "Children\n",
       "0     2548\n",
       "1     2509\n",
       "3     1489\n",
       "2     1475\n",
       "4      995\n",
       "7      213\n",
       "8      209\n",
       "6      191\n",
       "5      169\n",
       "9      108\n",
       "10      94\n",
       "Name: count, dtype: int64"
      ]
     },
     "execution_count": 55,
     "metadata": {},
     "output_type": "execute_result"
    }
   ],
   "source": [
    "df.Children.value_counts()"
   ]
  },
  {
   "cell_type": "code",
   "execution_count": 57,
   "id": "f2520d56-f8be-4a0e-95ad-4d651ca381e8",
   "metadata": {},
   "outputs": [
    {
     "data": {
      "text/plain": [
       "count    10000.000000\n",
       "mean        53.511700\n",
       "std         20.638538\n",
       "min         18.000000\n",
       "25%         36.000000\n",
       "50%         53.000000\n",
       "75%         71.000000\n",
       "max         89.000000\n",
       "Name: Age, dtype: float64"
      ]
     },
     "execution_count": 57,
     "metadata": {},
     "output_type": "execute_result"
    }
   ],
   "source": [
    "df.Age.describe()"
   ]
  },
  {
   "cell_type": "code",
   "execution_count": 59,
   "id": "4073050d-ecd8-4366-a1c1-ca245e841041",
   "metadata": {},
   "outputs": [
    {
     "data": {
      "text/plain": [
       "Age\n",
       "47    161\n",
       "52    159\n",
       "74    159\n",
       "41    157\n",
       "86    156\n",
       "     ... \n",
       "63    123\n",
       "51    122\n",
       "20    120\n",
       "36    118\n",
       "80    116\n",
       "Name: count, Length: 72, dtype: int64"
      ]
     },
     "execution_count": 59,
     "metadata": {},
     "output_type": "execute_result"
    }
   ],
   "source": [
    "df.Age.value_counts()"
   ]
  },
  {
   "cell_type": "code",
   "execution_count": 65,
   "id": "945e8034-ccd8-416e-ad0f-52f2c4378502",
   "metadata": {},
   "outputs": [
    {
     "data": {
      "text/plain": [
       "count    10000.000000\n",
       "mean         0.476800\n",
       "std          0.499486\n",
       "min          0.000000\n",
       "25%          0.000000\n",
       "50%          0.000000\n",
       "75%          1.000000\n",
       "max          1.000000\n",
       "Name: Gender_Male, dtype: float64"
      ]
     },
     "execution_count": 65,
     "metadata": {},
     "output_type": "execute_result"
    }
   ],
   "source": [
    "df.Gender_Male.describe()"
   ]
  },
  {
   "cell_type": "code",
   "execution_count": 67,
   "id": "0bcdec02-6f64-4196-bcad-88406ee2568d",
   "metadata": {},
   "outputs": [
    {
     "data": {
      "text/plain": [
       "Gender_Nonbinary\n",
       "0    9786\n",
       "1     214\n",
       "Name: count, dtype: int64"
      ]
     },
     "execution_count": 67,
     "metadata": {},
     "output_type": "execute_result"
    }
   ],
   "source": [
    "df.Gender_Nonbinary.value_counts()"
   ]
  },
  {
   "cell_type": "code",
   "execution_count": 69,
   "id": "1001dfa8-8ca3-4978-ab3c-57a5e5486b5a",
   "metadata": {},
   "outputs": [
    {
     "data": {
      "text/plain": [
       "count    10000.000000\n",
       "mean        17.964262\n",
       "std          2.017231\n",
       "min          9.806483\n",
       "25%         16.626439\n",
       "50%         17.951122\n",
       "75%         19.347963\n",
       "max         26.394449\n",
       "Name: VitD_levels, dtype: float64"
      ]
     },
     "execution_count": 69,
     "metadata": {},
     "output_type": "execute_result"
    }
   ],
   "source": [
    "df.VitD_levels.describe()"
   ]
  },
  {
   "cell_type": "code",
   "execution_count": 71,
   "id": "5b4ad387-be8a-4261-925f-fecaf101402a",
   "metadata": {},
   "outputs": [
    {
     "data": {
      "text/plain": [
       "VitD_levels\n",
       "18.135431    2\n",
       "15.939760    2\n",
       "17.821860    2\n",
       "20.184170    2\n",
       "18.741340    2\n",
       "            ..\n",
       "18.825293    1\n",
       "16.849021    1\n",
       "15.111106    1\n",
       "20.583694    1\n",
       "18.388620    1\n",
       "Name: count, Length: 9976, dtype: int64"
      ]
     },
     "execution_count": 71,
     "metadata": {},
     "output_type": "execute_result"
    }
   ],
   "source": [
    "df.VitD_levels.value_counts()"
   ]
  },
  {
   "cell_type": "code",
   "execution_count": 73,
   "id": "96ed05ca-9b0d-4a71-8f5a-67e3c27c4af3",
   "metadata": {},
   "outputs": [
    {
     "data": {
      "text/plain": [
       "count    10000.000000\n",
       "mean         5.012200\n",
       "std          1.045734\n",
       "min          1.000000\n",
       "25%          4.000000\n",
       "50%          5.000000\n",
       "75%          6.000000\n",
       "max          9.000000\n",
       "Name: Doc_visits, dtype: float64"
      ]
     },
     "execution_count": 73,
     "metadata": {},
     "output_type": "execute_result"
    }
   ],
   "source": [
    "df.Doc_visits.describe()"
   ]
  },
  {
   "cell_type": "code",
   "execution_count": 75,
   "id": "1a81a058-c12b-45ff-986d-f739071c5b48",
   "metadata": {},
   "outputs": [
    {
     "data": {
      "text/plain": [
       "Doc_visits\n",
       "5    3823\n",
       "6    2436\n",
       "4    2385\n",
       "7     634\n",
       "3     595\n",
       "8      61\n",
       "2      58\n",
       "1       6\n",
       "9       2\n",
       "Name: count, dtype: int64"
      ]
     },
     "execution_count": 75,
     "metadata": {},
     "output_type": "execute_result"
    }
   ],
   "source": [
    "df.Doc_visits.value_counts()"
   ]
  },
  {
   "cell_type": "code",
   "execution_count": 77,
   "id": "4ed127c1-a498-4025-9146-2f6e410beb9c",
   "metadata": {},
   "outputs": [
    {
     "data": {
      "text/plain": [
       "count    10000.000000\n",
       "mean         1.001400\n",
       "std          1.008117\n",
       "min          0.000000\n",
       "25%          0.000000\n",
       "50%          1.000000\n",
       "75%          2.000000\n",
       "max          7.000000\n",
       "Name: Full_meals_eaten, dtype: float64"
      ]
     },
     "execution_count": 77,
     "metadata": {},
     "output_type": "execute_result"
    }
   ],
   "source": [
    "df.Full_meals_eaten.describe()"
   ]
  },
  {
   "cell_type": "code",
   "execution_count": 79,
   "id": "8974d00e-1d46-4f7b-a1f3-3bf3b15e268c",
   "metadata": {},
   "outputs": [
    {
     "data": {
      "text/plain": [
       "Full_meals_eaten\n",
       "0    3715\n",
       "1    3615\n",
       "2    1856\n",
       "3     612\n",
       "4     169\n",
       "5      25\n",
       "6       6\n",
       "7       2\n",
       "Name: count, dtype: int64"
      ]
     },
     "execution_count": 79,
     "metadata": {},
     "output_type": "execute_result"
    }
   ],
   "source": [
    "df.Full_meals_eaten.value_counts()"
   ]
  },
  {
   "cell_type": "code",
   "execution_count": 126,
   "id": "0c3f099c-e6ad-44b8-bfee-086a092edcac",
   "metadata": {},
   "outputs": [],
   "source": [
    "# Creating data frame of variables that weren't categorical and didn't need dummy variables\n",
    "features = df[[\"Children\", \"Age\", \"VitD_levels\", \"Doc_visits\",\"Full_meals_eaten\",\"Initial_days\",'Gender_Male','Gender_Nonbinary', 'Arthritis_1', 'Diabetes_1', 'Hyperlipidemia_1', 'Allergic_rhinitis_1', 'Asthma_1']]\n",
    "# Assuming Arthritis_1 and other variables are defined elsewhere\n",
    "features = pd.concat([num_features] + dummies, axis=1)\n",
    "X = features\n",
    "y = df['Anxiety_1'].copy()\n",
    "X.to_csv('d209task2_full_clean.csv', index=False)\n",
    "X_train, X_test, y_train, y_test = train_test_split(X, y, test_size=0.2, random_state=42, stratify=y)"
   ]
  },
  {
   "cell_type": "code",
   "execution_count": null,
   "id": "ee71b1de-a2df-4e5b-8e7b-ea9bbb9f85a4",
   "metadata": {},
   "outputs": [],
   "source": [
    "pd.DataFrame(X_train).to_csv(\"x_train1.csv\", sep=',', index=False)\n",
    "pd.DataFrame(X_test).to_csv(\"X_test1.csv\", sep=',', index=False)\n",
    "pd.DataFrame(y_train).to_csv(\"y_train1.csv\", sep=',', index=False)\n",
    "pd.DataFrame(y_test).to_csv(\"y_test1.csv\", sep=',', index=False)\n"
   ]
  },
  {
   "cell_type": "code",
   "execution_count": null,
   "id": "9547366c-9dc6-441e-93db-58af68febabb",
   "metadata": {},
   "outputs": [],
   "source": [
    "# Hyperparameter tuning for Decision Tree\n",
    "# Define parameter grid for Decision Tree\n",
    "parameter_grid = {\n",
    "    'max_depth': [1, 2, 3, 4, 5, 6, 7, 8, 9, 10],\n",
    "    'min_samples_leaf': [0.04, 0.06, 0.08, 0.10, 0.12, 0.14, 0.16, 0.18, 0.20, 0.22]\n",
    "}\n",
    "\n",
    "# Initialize Decision Tree\n",
    "initial_decision_tree = DecisionTreeClassifier(random_state=42)\n",
    "\n",
    "# Initialize GridSearchCV\n",
    "grid_search_decision_tree = GridSearchCV(estimator=initial_decision_tree,\n",
    "                                         param_grid=parameter_grid,\n",
    "                                         scoring='roc_auc',\n",
    "                                         cv=5,\n",
    "                                         n_jobs=-1)\n",
    "\n",
    "# Fit GridSearchCV to training data\n",
    "grid_search_decision_tree.fit(X_train, y_train)\n",
    "\n",
    "# Get the best estimator\n",
    "best_decision_tree = grid_search_decision_tree.best_estimator_\n",
    "\n",
    "# Predict labels for test set\n",
    "initial_predictions = best_decision_tree.predict(X_test)\n",
    "\n",
    "# Calculate accuracy for the model\n",
    "accuracy = accuracy_score(y_test, initial_predictions)\n",
    "print('Test set accuracy of the best Decision Tree: {:.2f}'.format(accuracy)) \n",
    "\n",
    "# Predict probabilities of the positive class for the test set\n",
    "initial_probabilities = best_decision_tree.predict_proba(X_test)[:, 1]\n",
    "\n",
    "# Calculate ROC AUC score for the test set\n",
    "roc_auc = roc_auc_score(y_test, initial_probabilities)\n",
    "\n",
    "# Print ROC AUC score\n",
    "print('Test set ROC AUC score: {:.3f}'.format(roc_auc))"
   ]
  },
  {
   "cell_type": "code",
   "execution_count": null,
   "id": "f70600ac-f032-45bb-b429-620575aa49a0",
   "metadata": {},
   "outputs": [],
   "source": [
    "best_decision_tree"
   ]
  },
  {
   "cell_type": "code",
   "execution_count": null,
   "id": "4a0f916d-4fe7-4532-9ab9-471d26f9c30b",
   "metadata": {},
   "outputs": [],
   "source": [
    "# Hyperparameter tuning for AdaBoost\n",
    "# Define parameter grid for AdaBoost\n",
    "ada_parameters = {\n",
    "    'n_estimators': [160, 180, 200],\n",
    "    'learning_rate': [0.9, 1.0, 1.1, 1.2, 1.3]\n",
    "}\n",
    "\n",
    "# Initialize a Decision Tree with specified hyperparameters\n",
    "base_tree = DecisionTreeClassifier(max_depth=3, min_samples_leaf=0.08, random_state=42)\n",
    "\n",
    "# Initialize the AdaBoost classifier using the decision tree\n",
    "ada_classifier = AdaBoostClassifier(base_estimator=base_tree, random_state=42)\n",
    "\n",
    "# Set up GridSearchCV for AdaBoost\n",
    "grid_search_ada = GridSearchCV(estimator=ada_classifier,\n",
    "                               param_grid=ada_parameters,\n",
    "                               scoring='roc_auc',\n",
    "                               cv=5,\n",
    "                               n_jobs=-1)\n",
    "\n",
    "# Fit the grid search to the training data\n",
    "grid_search_ada.fit(X_train, y_train)\n",
    "\n",
    "# Display the best parameters found by the grid search\n",
    "print(grid_search_ada.best_params_)"
   ]
  },
  {
   "cell_type": "code",
   "execution_count": null,
   "id": "f7d4f2d6-b71c-4ce9-8909-eb038bdca981",
   "metadata": {},
   "outputs": [],
   "source": [
    "# Initialize a Decision Tree with tuned hyperparameters\n",
    "final_decision_tree = DecisionTreeClassifier(max_depth=3, min_samples_leaf=0.08, random_state=42)\n",
    "final_ada_boost = AdaBoostClassifier(base_estimator=final_decision_tree, n_estimators=200, learning_rate=1.3, random_state=42)\n",
    "final_ada_boost.fit(X_train, y_train)\n",
    "final_predictions = final_ada_boost.predict(X_test)\n",
    "final_accuracy = accuracy_score(y_test, final_predictions)\n",
    "print('Final Decision Tree Model Test Accuracy: {:.2f}'.format(final_accuracy))\n",
    "final_probabilities = final_ada_boost.predict_proba(X_test)[:,1]\n",
    "final_roc_auc = roc_auc_score(y_test, final_probabilities)\n",
    "final_confusion_matrix = confusion_matrix(y_test, final_predictions)\n",
    "print(\"\\nConfusion Matrix for AdaBoosted Decision Tree:\")\n",
    "print(\"Predicted No anxiety| Predicted Anxiety\")\n",
    "print(f\"                   {final_confusion_matrix[0]}  No Anxiety\")\n",
    "print(f\"                   {final_confusion_matrix[1]}  Anxiety\\n\")\n",
    "\n",
    "# Calculate mean squared error and root mean squared error\n",
    "final_mse = mean_squared_error(y_test, final_predictions)\n",
    "final_root_mse = final_mse ** (1/2)\n",
    "print(f\"Mean Squared Error: {final_mse}\")\n",
    "print(f\"Root Mean Squared Error: {round(final_root_mse, 2)}\\n\\n\")\n",
    "\n",
    "# Generate classification report\n",
    "print(classification_report(y_test, final_predictions))\n",
    "\n",
    "# Display the AUC score of the final model\n",
    "print('\\nArea Under the Curve (AUC) Score of Final Decision Tree Model: {:.2f}'.format(final_roc_auc))"
   ]
  },
  {
   "cell_type": "code",
   "execution_count": null,
   "id": "484b94e3-9fd1-4f54-b01d-0c86f65a9608",
   "metadata": {},
   "outputs": [],
   "source": [
    "# Generate ROC plot and calculate AUC score\n",
    "false_positive_rate, true_positive_rate, thresholds = roc_curve(y_test, final_predictions)\n",
    "plt.plot([0, 1], [0, 1], 'k--')\n",
    "plt.plot(false_positive_rate, true_positive_rate)\n",
    "plt.xlabel('False Positive Rate')\n",
    "plt.ylabel('True Positive Rate')\n",
    "plt.title('ROC Curve for AdaBoosted Classification Model')\n",
    "plt.show()\n",
    "\n",
    "# Display the AUC score of the final model\n",
    "print('\\nArea Under the Curve (AUC) Score of Final Decision Tree Model: {:.2f}'.format(final_roc_auc))"
   ]
  },
  {
   "cell_type": "code",
   "execution_count": null,
   "id": "9bbafafb-454d-45c5-8a8f-b7926be9da76",
   "metadata": {},
   "outputs": [],
   "source": []
  }
 ],
 "metadata": {
  "kernelspec": {
   "display_name": "Python 3 (ipykernel)",
   "language": "python",
   "name": "python3"
  },
  "language_info": {
   "codemirror_mode": {
    "name": "ipython",
    "version": 3
   },
   "file_extension": ".py",
   "mimetype": "text/x-python",
   "name": "python",
   "nbconvert_exporter": "python",
   "pygments_lexer": "ipython3",
   "version": "3.11.7"
  }
 },
 "nbformat": 4,
 "nbformat_minor": 5
}
