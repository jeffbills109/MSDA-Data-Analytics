{
 "cells": [
  {
   "cell_type": "code",
   "execution_count": 1,
   "id": "3158483a-caa9-4cdd-a18c-ed2fbc76128c",
   "metadata": {},
   "outputs": [],
   "source": [
    "import pandas as pd\n",
    "from pandas.api.types import CategoricalDtype\n",
    "import numpy as np\n",
    "import matplotlib.pyplot as plt\n",
    "import seaborn as sns\n",
    "from scipy import stats\n",
    "import statsmodels.api as sm\n",
    "from statsmodels.stats.outliers_influence import variance_inflation_factor\n",
    "from statsmodels.graphics.mosaicplot import mosaic\n",
    "from sklearn.model_selection import train_test_split\n",
    "from sklearn import preprocessing\n",
    "from sklearn.feature_selection import SelectKBest, f_classif\n",
    "from sklearn.neighbors import KNeighborsClassifier\n",
    "from sklearn.model_selection import GridSearchCV\n",
    "from sklearn.metrics import confusion_matrix\n",
    "from sklearn.metrics import roc_auc_score\n",
    "from sklearn.metrics import roc_curve\n",
    "from sklearn.metrics import classification_report\n",
    "from sklearn.metrics import multilabel_confusion_matrix, classification_report, confusion_matrix\n",
    "from sklearn.preprocessing import StandardScaler\n",
    "from sklearn.preprocessing import StandardScaler\n",
    "from sklearn.neighbors import KNeighborsClassifier\n",
    "from sklearn.metrics import accuracy_score, classification_report, confusion_matrix\n"
   ]
  },
  {
   "cell_type": "code",
   "execution_count": 2,
   "id": "158bba6e-e137-4293-9663-83e691cb0c3a",
   "metadata": {},
   "outputs": [],
   "source": [
    "#Read DataSet off of computer\n",
    "df = pd.read_csv('C:/Users/jefft/Desktop/WGU Classes/D210/medical_clean.csv', index_col=0)"
   ]
  },
  {
   "cell_type": "code",
   "execution_count": 3,
   "id": "90103cc2-be4a-40e6-b560-4bf61a811a07",
   "metadata": {},
   "outputs": [
    {
     "name": "stdout",
     "output_type": "stream",
     "text": [
      "<class 'pandas.core.frame.DataFrame'>\n",
      "Index: 10000 entries, 1 to 10000\n",
      "Data columns (total 49 columns):\n",
      " #   Column              Non-Null Count  Dtype  \n",
      "---  ------              --------------  -----  \n",
      " 0   Customer_id         10000 non-null  object \n",
      " 1   Interaction         10000 non-null  object \n",
      " 2   UID                 10000 non-null  object \n",
      " 3   City                10000 non-null  object \n",
      " 4   State               10000 non-null  object \n",
      " 5   County              10000 non-null  object \n",
      " 6   Zip                 10000 non-null  int64  \n",
      " 7   Lat                 10000 non-null  float64\n",
      " 8   Lng                 10000 non-null  float64\n",
      " 9   Population          10000 non-null  int64  \n",
      " 10  Area                10000 non-null  object \n",
      " 11  TimeZone            10000 non-null  object \n",
      " 12  Job                 10000 non-null  object \n",
      " 13  Children            10000 non-null  int64  \n",
      " 14  Age                 10000 non-null  int64  \n",
      " 15  Income              10000 non-null  float64\n",
      " 16  Marital             10000 non-null  object \n",
      " 17  Gender              10000 non-null  object \n",
      " 18  ReAdmis             10000 non-null  object \n",
      " 19  VitD_levels         10000 non-null  float64\n",
      " 20  Doc_visits          10000 non-null  int64  \n",
      " 21  Full_meals_eaten    10000 non-null  int64  \n",
      " 22  vitD_supp           10000 non-null  int64  \n",
      " 23  Soft_drink          10000 non-null  object \n",
      " 24  Initial_admin       10000 non-null  object \n",
      " 25  HighBlood           10000 non-null  object \n",
      " 26  Stroke              10000 non-null  object \n",
      " 27  Complication_risk   10000 non-null  object \n",
      " 28  Overweight          10000 non-null  object \n",
      " 29  Arthritis           10000 non-null  object \n",
      " 30  Diabetes            10000 non-null  object \n",
      " 31  Hyperlipidemia      10000 non-null  object \n",
      " 32  BackPain            10000 non-null  object \n",
      " 33  Anxiety             10000 non-null  object \n",
      " 34  Allergic_rhinitis   10000 non-null  object \n",
      " 35  Reflux_esophagitis  10000 non-null  object \n",
      " 36  Asthma              10000 non-null  object \n",
      " 37  Services            10000 non-null  object \n",
      " 38  Initial_days        10000 non-null  float64\n",
      " 39  TotalCharge         10000 non-null  float64\n",
      " 40  Additional_charges  10000 non-null  float64\n",
      " 41  Item1               10000 non-null  int64  \n",
      " 42  Item2               10000 non-null  int64  \n",
      " 43  Item3               10000 non-null  int64  \n",
      " 44  Item4               10000 non-null  int64  \n",
      " 45  Item5               10000 non-null  int64  \n",
      " 46  Item6               10000 non-null  int64  \n",
      " 47  Item7               10000 non-null  int64  \n",
      " 48  Item8               10000 non-null  int64  \n",
      "dtypes: float64(7), int64(15), object(27)\n",
      "memory usage: 3.8+ MB\n"
     ]
    }
   ],
   "source": [
    "df.info()"
   ]
  },
  {
   "cell_type": "code",
   "execution_count": 4,
   "id": "428ba05f-6b3e-4bd5-a49a-b6e513d9194e",
   "metadata": {},
   "outputs": [],
   "source": [
    "\n",
    "# get the dummies and store it in a variable without applying the k-1 rule\n",
    "Gender_dummies = pd.get_dummies(df.Gender, dtype=int, drop_first=False)\n",
    "Arthritis_dummies = pd.get_dummies(df.Arthritis, dtype=int, drop_first=False)\n",
    "Diabetes_dummies = pd.get_dummies(df.Diabetes, dtype=int, drop_first=False)\n",
    "Hyperlipidemia_dummies = pd.get_dummies(df.Hyperlipidemia, dtype=int, drop_first=False)\n",
    "Allergic_rhinitis_dummies = pd.get_dummies(df.Allergic_rhinitis, dtype=int, drop_first=False)\n",
    "Asthma_dummies = pd.get_dummies(df.Asthma, dtype=int, drop_first=False)\n",
    "Anxiety_dummies = pd.get_dummies(df.Anxiety, dtype=int, drop_first=False)"
   ]
  },
  {
   "cell_type": "code",
   "execution_count": null,
   "id": "800e953e-25e8-40b2-936e-271e484cfdb0",
   "metadata": {},
   "outputs": [],
   "source": [
    "#Renaming Columns\n",
    "Arthritis_dummies = Arthritis_dummies.rename(columns = {\"Yes\": 'Arthritis1',})\n",
    "Diabetes_dummies = Diabetes_dummies.rename(columns = {\"Yes\": 'Diabetes1',})\n",
    "Hyperlipidemia_dummies = Hyperlipidemia_dummies.rename(columns = {\"Yes\": 'Hyperlipidemia1',})\n",
    "Allergic_rhinitis_dummies = Allergic_rhinitis_dummies.rename(columns = {\"Yes\": 'Allergic_rhinitis1',})\n",
    "Asthma_dummies = Asthma_dummies.rename(columns = {\"Yes\": 'Asthma1',})\n",
    "Anxiety_dummies = Anxiety_dummies.rename(columns = {\"No\": 'No_Anxiety', \"Yes\": 'Yes_Anxiety'})\n",
    "\n",
    "\n"
   ]
  },
  {
   "cell_type": "code",
   "execution_count": 5,
   "id": "f04fe3ab-6027-49ad-8df2-5b4d8825a278",
   "metadata": {},
   "outputs": [],
   "source": [
    "# Convert specified columns from string to category\n",
    "df[\"TimeZone\"] = df[\"TimeZone\"].astype(\"category\")\n",
    "df[\"Marital\"] = df[\"Marital\"].astype(\"category\")\n",
    "df[\"Gender\"] = df[\"Gender\"].astype(\"category\")\n",
    "df[\"Initial_admin\"] = df[\"Initial_admin\"].astype(\"category\")\n",
    "df[\"Complication_risk\"] = df[\"Complication_risk\"].astype(\"category\")\n",
    "df[\"Services\"] = df[\"Services\"].astype(\"category\")\n",
    "\n",
    "# Reformat the 'Income' column from float to integer\n",
    "df[\"Income\"] = df[\"Income\"].astype(int)\n",
    "\n",
    "# Reformat currency columns to 3 decimal places\n",
    "df[\"TotalCharge\"] = df[\"TotalCharge\"].round(3)\n",
    "df[\"Additional_charges\"] = df[\"Additional_charges\"].round(3)\n",
    "\n",
    "# Define mapping for boolean conversion\n",
    "bool_mapping = {\"Yes\": 1, \"No\": 0}\n",
    "\n",
    "# Convert specified columns from string to boolean using the mapping\n",
    "boolean_columns = [\"ReAdmis\", \"Soft_drink\", \"HighBlood\", \"Stroke\", \"Overweight\", \n",
    "                   \"Arthritis\", \"Diabetes\", \"Hyperlipidemia\", \"BackPain\", \"Anxiety\", \n",
    "                   \"Allergic_rhinitis\", \"Reflux_esophagitis\", \"Asthma\"]\n",
    "\n",
    "for col in boolean_columns:\n",
    "    df[col] = df[col].map(bool_mapping)\n",
    "\n",
    "# Define mapping to reverse survey scores\n",
    "survey_mapping = {1: 8, 2: 7, 3: 6, 4: 5, 5: 4, 6: 3, 7: 2, 8: 1}\n",
    "\n",
    "# Define ordered categorical datatype for survey responses\n",
    "survey_scores = CategoricalDtype(categories=[\"1\", \"2\", \"3\", \"4\", \"5\", \"6\", \"7\", \"8\"], ordered=True)\n",
    "\n",
    "# Reverse and convert survey score columns to ordered categorical datatype\n",
    "survey_columns = [\"Item1\", \"Item2\", \"Item3\", \"Item4\", \"Item5\", \"Item6\", \"Item7\", \"Item8\"]\n",
    "\n",
    "for col in survey_columns:\n",
    "    df[col] = df[col].map(survey_mapping).map(str).astype(survey_scores)"
   ]
  },
  {
   "cell_type": "code",
   "execution_count": null,
   "id": "57ca2169-0a1d-4d5c-8d2e-af2d52fc849f",
   "metadata": {},
   "outputs": [],
   "source": [
    "#summary Statistics \n",
    "df.Initial_days.describe()"
   ]
  },
  {
   "cell_type": "code",
   "execution_count": null,
   "id": "eab4990e-373f-4357-a537-14546db8339e",
   "metadata": {},
   "outputs": [],
   "source": [
    "df.Initial_days.value_counts()"
   ]
  },
  {
   "cell_type": "code",
   "execution_count": null,
   "id": "eed44213-1f2a-4f05-9be3-dfac5ba562c1",
   "metadata": {},
   "outputs": [],
   "source": [
    "df.Asthma.describe()"
   ]
  },
  {
   "cell_type": "code",
   "execution_count": null,
   "id": "08a7cfd6-b1ee-49aa-ab92-a88319a36c7a",
   "metadata": {},
   "outputs": [],
   "source": [
    "df.Asthma.value_counts"
   ]
  },
  {
   "cell_type": "code",
   "execution_count": null,
   "id": "f2453c5f-0ac3-457a-8bd6-5089fd70b18e",
   "metadata": {},
   "outputs": [],
   "source": [
    "df. Allergic_rhinitis.describe()"
   ]
  },
  {
   "cell_type": "code",
   "execution_count": null,
   "id": "ef7a6c3c-73b2-49d8-b090-9e25fc7ebd41",
   "metadata": {},
   "outputs": [],
   "source": [
    "df.  Allergic_rhinitis.value_counts"
   ]
  },
  {
   "cell_type": "code",
   "execution_count": 8,
   "id": "f46475c5-8396-4612-b8f8-bee6d23096f1",
   "metadata": {},
   "outputs": [
    {
     "data": {
      "text/plain": [
       "count    10000.000000\n",
       "mean         0.321500\n",
       "std          0.467076\n",
       "min          0.000000\n",
       "25%          0.000000\n",
       "50%          0.000000\n",
       "75%          1.000000\n",
       "max          1.000000\n",
       "Name: Anxiety, dtype: float64"
      ]
     },
     "execution_count": 8,
     "metadata": {},
     "output_type": "execute_result"
    }
   ],
   "source": [
    "df.Anxiety.describe()"
   ]
  },
  {
   "cell_type": "code",
   "execution_count": 9,
   "id": "466bd0e4-1163-4ea8-805e-fc99abeda88a",
   "metadata": {},
   "outputs": [
    {
     "data": {
      "text/plain": [
       "Anxiety\n",
       "0    6785\n",
       "1    3215\n",
       "Name: count, dtype: int64"
      ]
     },
     "execution_count": 9,
     "metadata": {},
     "output_type": "execute_result"
    }
   ],
   "source": [
    "df.Anxiety.value_counts()"
   ]
  },
  {
   "cell_type": "code",
   "execution_count": null,
   "id": "f58b7caa-9bf2-4c4b-a976-266ef7b3cd9c",
   "metadata": {},
   "outputs": [],
   "source": [
    "df.Hyperlipidemia.describe"
   ]
  },
  {
   "cell_type": "code",
   "execution_count": null,
   "id": "032523f3-f3b8-4560-b721-232b79cde1dd",
   "metadata": {},
   "outputs": [],
   "source": [
    "df.Hyperlipidemia.value_counts"
   ]
  },
  {
   "cell_type": "code",
   "execution_count": null,
   "id": "71ceed67-d3bf-40ab-aead-5f3607283a22",
   "metadata": {},
   "outputs": [],
   "source": [
    "df.Diabetes.describe"
   ]
  },
  {
   "cell_type": "code",
   "execution_count": null,
   "id": "0892d5f8-b9ad-4591-9159-023a83359935",
   "metadata": {},
   "outputs": [],
   "source": [
    "df.Diabetes.value_counts"
   ]
  },
  {
   "cell_type": "code",
   "execution_count": null,
   "id": "69df858f-b941-451b-a999-180785c3497f",
   "metadata": {},
   "outputs": [],
   "source": [
    "df.Arthritis.describe"
   ]
  },
  {
   "cell_type": "code",
   "execution_count": null,
   "id": "88f1d0c4-3340-4a35-b0a3-d05bfa6bebb8",
   "metadata": {},
   "outputs": [],
   "source": [
    "df.Arthritis.value_counts"
   ]
  },
  {
   "cell_type": "code",
   "execution_count": null,
   "id": "e6fc976b-8f8f-41b3-84e4-66771b3d929f",
   "metadata": {},
   "outputs": [],
   "source": [
    "df.Children.describe"
   ]
  },
  {
   "cell_type": "code",
   "execution_count": null,
   "id": "1dc1eb90-7aca-4774-92f2-6dc3e2a5cad0",
   "metadata": {},
   "outputs": [],
   "source": [
    "df.Children.value_counts"
   ]
  },
  {
   "cell_type": "code",
   "execution_count": null,
   "id": "38a2784a-f94f-4901-8492-e445bd92d64c",
   "metadata": {},
   "outputs": [],
   "source": [
    "df.Age.describe"
   ]
  },
  {
   "cell_type": "code",
   "execution_count": null,
   "id": "cb326ff5-8ecf-4602-8ed0-3e05f2ffb4c6",
   "metadata": {},
   "outputs": [],
   "source": [
    "df.Age.value_counts"
   ]
  },
  {
   "cell_type": "code",
   "execution_count": null,
   "id": "bf53b8c9-851f-47a3-aeba-35b13da0898f",
   "metadata": {},
   "outputs": [],
   "source": [
    "df.Gender.describe"
   ]
  },
  {
   "cell_type": "code",
   "execution_count": null,
   "id": "ebdfa6e5-b0ce-4548-a53f-dbef363e3347",
   "metadata": {},
   "outputs": [],
   "source": [
    "df.Gender.value_counts"
   ]
  },
  {
   "cell_type": "code",
   "execution_count": null,
   "id": "3ee0d34b-2efd-43ab-b3a4-fa7658817e1a",
   "metadata": {},
   "outputs": [],
   "source": [
    "df.VitD_levels.describe"
   ]
  },
  {
   "cell_type": "code",
   "execution_count": null,
   "id": "56ca8375-b89f-47d5-9d4f-c6786dd1e3ec",
   "metadata": {},
   "outputs": [],
   "source": [
    "df.VitD_levels.value_counts"
   ]
  },
  {
   "cell_type": "code",
   "execution_count": null,
   "id": "493353f4-3537-4844-ab27-1440b5ec59f2",
   "metadata": {},
   "outputs": [],
   "source": [
    "df.Doc_visits.describe"
   ]
  },
  {
   "cell_type": "code",
   "execution_count": null,
   "id": "7d21d9c7-563e-44b4-b2c2-f797b945c266",
   "metadata": {},
   "outputs": [],
   "source": [
    "df.Doc_visits.value_counts"
   ]
  },
  {
   "cell_type": "code",
   "execution_count": null,
   "id": "f20f82a3-5042-4390-afc5-66ea25f4d3d0",
   "metadata": {},
   "outputs": [],
   "source": [
    "df.Full_meals_eaten.describe"
   ]
  },
  {
   "cell_type": "code",
   "execution_count": null,
   "id": "4edafbf7-f4b0-4334-b1ae-f32f9fa81bf8",
   "metadata": {},
   "outputs": [],
   "source": [
    "df.Full_meals_eaten.value_counts"
   ]
  },
  {
   "cell_type": "code",
   "execution_count": null,
   "id": "fea1f8e3-7d59-4d3a-b02e-212e001d27e0",
   "metadata": {},
   "outputs": [],
   "source": [
    "Anxiety_dummies"
   ]
  },
  {
   "cell_type": "code",
   "execution_count": null,
   "id": "e6bad453-915c-4d5e-8e85-dc1cd3f91ec3",
   "metadata": {},
   "outputs": [],
   "source": [
    "df.Asthma"
   ]
  },
  {
   "cell_type": "code",
   "execution_count": null,
   "id": "68ff14c3-d027-414d-99de-c6fc082d021d",
   "metadata": {},
   "outputs": [],
   "source": [
    "df[\"Anxiety\"] "
   ]
  },
  {
   "cell_type": "code",
   "execution_count": null,
   "id": "c0b12c01-30a0-4367-946c-ac217a45c174",
   "metadata": {},
   "outputs": [],
   "source": [
    "Arthritis_dummies"
   ]
  },
  {
   "cell_type": "code",
   "execution_count": null,
   "id": "5ff55fa9-048f-45ed-8a12-ce23a136c8c3",
   "metadata": {},
   "outputs": [],
   "source": [
    "Diabetes_dummies"
   ]
  },
  {
   "cell_type": "code",
   "execution_count": null,
   "id": "2bd3cf2a-5a90-45bb-b804-fbe5562abeca",
   "metadata": {},
   "outputs": [],
   "source": [
    "Hyperlipidemia_dummies"
   ]
  },
  {
   "cell_type": "code",
   "execution_count": null,
   "id": "cf368469-8242-43da-98a5-be3beef05209",
   "metadata": {},
   "outputs": [],
   "source": [
    "Allergic_rhinitis_dummies "
   ]
  },
  {
   "cell_type": "code",
   "execution_count": null,
   "id": "cb6cd0c2-b680-414e-b51f-dde799da5a69",
   "metadata": {},
   "outputs": [],
   "source": [
    "Asthma_dummies"
   ]
  },
  {
   "cell_type": "code",
   "execution_count": null,
   "id": "2562b332-f4cb-4819-a096-c75341726b83",
   "metadata": {},
   "outputs": [],
   "source": [
    "#Creating data frame of variables that werent categorical and didnt need dummy variables\n",
    "num_features = df[[\"Children\", \"Age\", \"VitD_levels\", \"Doc_visits\",\"Full_meals_eaten\",\"Initial_days\"]]\n",
    "features = pd.concat([num_features, Gender_dummies,Arthritis_dummies,Diabetes_dummies,Hyperlipidemia_dummies,Allergic_rhinitis_dummies,Asthma_dummies], axis=\"columns\")\n",
    "df_X = features\n",
    "df_y =Anxiety_dummies.copy()"
   ]
  },
  {
   "cell_type": "code",
   "execution_count": null,
   "id": "3f508203-ea20-467e-a92d-ba481f84161e",
   "metadata": {},
   "outputs": [],
   "source": [
    "df_X"
   ]
  },
  {
   "cell_type": "code",
   "execution_count": null,
   "id": "1f41256b-edc2-4ed1-8b8f-4c7f2376faaa",
   "metadata": {},
   "outputs": [],
   "source": [
    "df_y"
   ]
  },
  {
   "cell_type": "code",
   "execution_count": null,
   "id": "29aaf216-d5a2-499c-a70b-43c6d3c444ad",
   "metadata": {},
   "outputs": [],
   "source": [
    "#test and training split\n",
    "X_train, X_test, y_train, y_test = train_test_split(dffullknn.drop('Churn', axis=1), dffullknn['Churn'], test_size=0.3, random_state=42069)\n",
    "\n",
    "#reduced test and training split\n",
    "redX_train, redX_test, redy_train, redy_test = train_test_split(dfknnred.drop('Churn', axis=1), dfknnred['Churn'], test_size=0.3, random_state=42069)"
   ]
  },
  {
   "cell_type": "code",
   "execution_count": null,
   "id": "7651e121-3047-4004-b431-3624e9fa4ccb",
   "metadata": {},
   "outputs": [],
   "source": [
    "# Standardize the X variables (explanatory) to put all on the same scale for KNN to measure distance\n",
    "df_X = pd.DataFrame(preprocessing.MinMaxScaler().fit_transform(df_X), columns=df_X.columns)\n",
    "df_X"
   ]
  },
  {
   "cell_type": "code",
   "execution_count": null,
   "id": "17da1c28-f216-46a3-9e50-260bbf3f7d51",
   "metadata": {},
   "outputs": [],
   "source": [
    "#Cleaned Data Set \n",
    "features1 = pd.concat([df_X, df_y], axis=\"columns\")\n",
    "#Clean Data Set\n",
    "\n",
    "features1.to_csv('output209CleanTask1.csv', index=False)"
   ]
  },
  {
   "cell_type": "code",
   "execution_count": null,
   "id": "61cb12b1-c34e-4fce-8abb-578cbbb51f06",
   "metadata": {},
   "outputs": [],
   "source": [
    "# Set X and y (standard sklearn variables) to equal the selected X features and the y response of interest\n",
    "X = df_X.assign(const=1)\n",
    "y = df_y\n",
    "# Split the data into train and test sets, 80% train, 20% test, use stratify to maintain proportions across split\n",
    "X_train, X_test, y_train, y_test = train_test_split(X, y, train_size = 0.8, test_size=0.2, random_state = 42, stratify = y)"
   ]
  },
  {
   "cell_type": "code",
   "execution_count": null,
   "id": "1326724c-86fc-49ad-92d7-98f44399e37c",
   "metadata": {},
   "outputs": [],
   "source": [
    "X_train.to_csv('task1_Xtrain.csv', index=False)\n",
    "X_test.to_csv('task1_Xtest.csv', index=False)\n",
    "y_train.to_csv('task1_ytrain.csv', index=False)\n",
    "y_test.to_csv('task1_ytest.csv', index=False)"
   ]
  },
  {
   "cell_type": "code",
   "execution_count": null,
   "id": "c1f7767c-3bc1-486b-b875-7268c2d9aa18",
   "metadata": {},
   "outputs": [],
   "source": [
    "# Determine what is the best number of neighbors to use for KNN classification, from values of k = 1 to k = 50\n",
    "param_grid = {'n_neighbors' : np.arange(1, 50)}\n",
    "# Instantiate the KNeighborsClassifier object\n",
    "knn = KNeighborsClassifier()\n",
    "# Instantiate the GridSearchCV object, searching across the provided parameter grid and 5 fold cross validation\n",
    "knn_cv = GridSearchCV(knn, param_grid, cv=5)\n",
    "# Fit to training data\n",
    "knn_cv.fit(X_train, y_train)\n",
    "# Find best parameter from GridSearchCV\n",
    "knn_cv.best_params_"
   ]
  },
  {
   "cell_type": "code",
   "execution_count": null,
   "id": "211cbffe-dc69-4497-b739-5d36b8230773",
   "metadata": {},
   "outputs": [],
   "source": [
    "knn_cv.best_params_"
   ]
  },
  {
   "cell_type": "code",
   "execution_count": null,
   "id": "d60a23f9-2fa2-4714-aba3-b11ac02f1228",
   "metadata": {},
   "outputs": [],
   "source": [
    "# Find score of best parameter from GridSearchCV\n",
    "knn_cv.best_score_"
   ]
  },
  {
   "cell_type": "code",
   "execution_count": null,
   "id": "81b6a3b0-5383-47ca-841b-379b5160d0a4",
   "metadata": {},
   "outputs": [],
   "source": [
    "X_train, X_test, y_train, y_test = train_test_split(X, y, test_size=0.2, random_state=42)\n",
    "# Standardize the features\n",
    "scaler = StandardScaler()\n",
    "X_train = scaler.fit_transform(X_train)\n",
    "X_test = scaler.transform(X_test)\n",
    "\n",
    "# Create and train the KNN classifier\n",
    "knn = KNeighborsClassifier(n_neighbors=49)  # You can change the number of neighbors\n",
    "knn.fit(X_train, y_train)\n",
    "\n",
    "# Make predictions\n",
    "y_pred = knn.predict(X_test)\n",
    "\n",
    "# Evaluate the model\n",
    "print(\"Accuracy:\", accuracy_score(y_test, y_pred))\n",
    "print(\"Classification Report:\\n\", classification_report(y_test, y_pred))\n",
    "print(\"Confusion Matrix:\\n\", confusion_matrix(y_test, y_pred))"
   ]
  },
  {
   "cell_type": "code",
   "execution_count": null,
   "id": "621304d2-6eec-4a0c-81ca-a32ad65b346c",
   "metadata": {},
   "outputs": [],
   "source": [
    "# Perform KNN using the value of k=44 from the above grid search\n",
    "knn = KNeighborsClassifier(n_neighbors = 49)\n",
    "# Fit to the training data\n",
    "knn.fit(X_train, y_train)\n",
    "# Generate y_pred array for model's confusion matrix\n",
    "y_test_arg=np.argmax(y_test,axis=1)\n",
    "Y_pred = np.argmax(model.predict(X_test),axis=1)\n",
    "print('Confusion Matrix')\n",
    "print(confusion_matrix(y_test_arg, Y_pred))"
   ]
  },
  {
   "cell_type": "code",
   "execution_count": null,
   "id": "8a6aec9b-27be-4ee5-b644-35dcc9c131da",
   "metadata": {},
   "outputs": [],
   "source": []
  },
  {
   "cell_type": "code",
   "execution_count": null,
   "id": "42ce9f59-17ea-41e9-a28d-8dc3ddc6b4b4",
   "metadata": {},
   "outputs": [],
   "source": [
    "# Perform KNN using the value of k=44 from the above grid search\n",
    "knn = KNeighborsClassifier(n_neighbors = 44)\n",
    "# Fit to the training data\n",
    "knn.fit(X_train, y_train)\n",
    "# Generate y_pred array for model's confusion matrix\n",
    "y_pred = knn.predict(X_test)\n",
    "final_matrix = confusion_matrix(y_test, y_pred)\n",
    "# Print confusion matrix and accuracy score of model\n",
    "print(\"The confusion matrix for this KNN model:\")\n",
    "print(\"Predicted No Back Pain | Predicted Back Pain\")\n",
    "print(f\"                 {final_matrix[0]} Actual No Back Pain\")\n",
    "print(f\"                 {final_matrix[1]} Actual Back Pain\")\n",
    "print(f\"The training accuracy of this KNN classification is {knn.score(X_train, y_train)}.\")\n",
    "print(f\"The testing accuracy of this KNN classification model is {knn.score(X_test, y_test)}.\")\n",
    "# Generate AUC score and print\n",
    "y_pred_prob = knn.predict_proba(X_test)[:, 1]\n",
    "fpr, tpr, thresholds = roc_curve(y_test, y_pred_prob)\n",
    "plt.plot([0, 1], [0, 1], 'k--')\n",
    "plt.plot(fpr, tpr)\n",
    "plt.xlabel('False Positive Rate')\n",
    "plt.ylabel('True Positive Rate')\n",
    "plt.title('ROC Curve for KNN Classification')\n",
    "plt.show()\n",
    "print(f\"The Area Under the Curve (AUC) score is: {roc_auc_score(y_test, y_pred_prob)}\\n\")\n",
    "print(classification_report(y_test, y_pred))"
   ]
  },
  {
   "cell_type": "code",
   "execution_count": null,
   "id": "b38c24e5-8ad5-45d8-8f6c-0ace25b27c11",
   "metadata": {},
   "outputs": [],
   "source": [
    "confusion_matrix(y_test.values.argmax(axis=1), predictions.argmax(axis=1))\n"
   ]
  },
  {
   "cell_type": "code",
   "execution_count": null,
   "id": "487194af-dd4f-4c53-9f93-848b7ac1020c",
   "metadata": {},
   "outputs": [],
   "source": []
  }
 ],
 "metadata": {
  "kernelspec": {
   "display_name": "Python 3 (ipykernel)",
   "language": "python",
   "name": "python3"
  },
  "language_info": {
   "codemirror_mode": {
    "name": "ipython",
    "version": 3
   },
   "file_extension": ".py",
   "mimetype": "text/x-python",
   "name": "python",
   "nbconvert_exporter": "python",
   "pygments_lexer": "ipython3",
   "version": "3.11.9"
  }
 },
 "nbformat": 4,
 "nbformat_minor": 5
}
